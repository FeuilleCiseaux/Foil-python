{
  "nbformat": 4,
  "nbformat_minor": 0,
  "metadata": {
    "colab": {
      "provenance": []
    },
    "kernelspec": {
      "name": "python3",
      "display_name": "Python 3"
    },
    "language_info": {
      "name": "python"
    }
  },
  "cells": [
    {
      "cell_type": "markdown",
      "source": [
        "Pierre BONNET\n",
        "\n",
        "# Rattrapage d'Inférence Logique 2022/2023 : Utilisation de l'algorithme FOIL pour l'apprentissage de catégories"
      ],
      "metadata": {
        "id": "SJeSKNDA8qwd"
      }
    },
    {
      "cell_type": "markdown",
      "source": [
        "Nous partons d'un jeu de données comportant des informations sur des papiers de recherches sur le machine learning. Elles sont répertoriées en deux fichiers sous la forme suivante:\n",
        "\n",
        "\n",
        "*   ID papier, binaires du vocabulaires présent, catégorie\n",
        "*   ID cité, ID citant\n",
        "\n",
        "De prime abord, ma réflexion s'est portée vers une idée plutôt simple: considérer la citation d'un papier dans un autre, comme la preuve d'une appartenance à un même groupe. Ce qui donnerait l'implication suivante:\n",
        "\n",
        "\n",
        "> **cites(x,y) AND category(y,c) -> category(x,c)**\n",
        "\n",
        "> *avec comme prédicats cites indiquant si le papier x cité par le papier y, ainsi que category indiquant si le papier y est de la catégorie a.*\n",
        "\n",
        "Il suffirait alors de mettre en place un test incluant des données de départ favorisant le bon apprentissage du concept de catégorie. C'est à dire, 7 relations positives, une pour chaque catégorie afin que l'algorithme les connaisse toutes, et 7 autres relations, elles, négatives.\n",
        "\n",
        "En effet, selon ma compréhension du fonctionnement de l'algorithme, après l'avoir configuré correcteement pour qu'il soit adapté à notre cas, notamment en lui introduisant les prédicats de base que nous allons utiliser ainsi que la forme de ceux que nous voulons obtenir,nous devons lui donners des informations sur lesquelles il va se baser pour déduire le concept à apprendre. En particulier, toutes les relations positives de prédicats de base que nous possédons (cites(x,y)), mais aussi des exemples concernant la règle à créer.\n",
        "\n",
        "Mais cette version exclut les informations données par le vocabulaire présent, tout en étant très simpliste. Il faut donc trouver un moyen d'en tirer parti.\n",
        "\n"
      ],
      "metadata": {
        "id": "iJGqvKkT8o-a"
      }
    },
    {
      "cell_type": "markdown",
      "source": [
        "Ainsi, en intégrant un peu mieux la logique de premier ordre, on peux envisager de construire l'algorithme foil avec les prédicats suivants :\n",
        "\n",
        "\n",
        "*   **cites(x,y)** , le papier y cite le papier x\n",
        "*   **contains(i,x)**, le papier x contient le mot d'indice i\n",
        "\n",
        "Il est alors possible de déduire une expression conjonctive de la forme suivante:  \n",
        "\n",
        "\n",
        "> **cites(x,y) AND contains(i,x) AND contains(i,y)**\n",
        "\n",
        "\n",
        "\n"
      ],
      "metadata": {
        "id": "JKFDTktVxN_2"
      }
    },
    {
      "cell_type": "code",
      "source": [
        "!git clone https://github.com/FeuilleCiseaux/Foil-python.git"
      ],
      "metadata": {
        "id": "DuAAi8KrACJc"
      },
      "execution_count": null,
      "outputs": []
    },
    {
      "cell_type": "code",
      "execution_count": 50,
      "metadata": {
        "id": "XAja54Ai8mnm",
        "colab": {
          "base_uri": "https://localhost:8080/"
        },
        "outputId": "8f450a4f-2c3c-4437-a1a7-f4000c6d2c43"
      },
      "outputs": [
        {
          "output_type": "stream",
          "name": "stdout",
          "text": [
            "Traceback (most recent call last):\n",
            "  File \"/content/Foil-python/trimlogic/test/FamilyTreeTestCase.py\", line 3, in <module>\n",
            "    from trimlogic.test.helper import FoilTestCase\n",
            "ModuleNotFoundError: No module named 'trimlogic'\n"
          ]
        }
      ],
      "source": [
        "!python /content/Foil-python/trimlogic/test/FamilyTreeTestCase.py"
      ]
    }
  ]
}